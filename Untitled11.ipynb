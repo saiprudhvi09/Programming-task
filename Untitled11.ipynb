{
  "cells": [
    {
      "cell_type": "markdown",
      "metadata": {
        "id": "view-in-github",
        "colab_type": "text"
      },
      "source": [
        "<a href=\"https://colab.research.google.com/github/saiprudhvi09/Programming-task/blob/main/Untitled11.ipynb\" target=\"_parent\"><img src=\"https://colab.research.google.com/assets/colab-badge.svg\" alt=\"Open In Colab\"/></a>"
      ]
    },
    {
      "cell_type": "code",
      "execution_count": 9,
      "metadata": {
        "colab": {
          "base_uri": "https://localhost:8080/"
        },
        "id": "uPNt24QSIGbE",
        "outputId": "4d6f2cf7-b149-41cf-e010-c387a048207c"
      },
      "outputs": [
        {
          "output_type": "stream",
          "name": "stdout",
          "text": [
            "Epoch 1/10\n",
            "4/4 [==============================] - 2s 9ms/step - loss: 0.1227\n",
            "Epoch 2/10\n",
            "4/4 [==============================] - 0s 9ms/step - loss: 0.0796\n",
            "Epoch 3/10\n",
            "4/4 [==============================] - 0s 10ms/step - loss: 0.0507\n",
            "Epoch 4/10\n",
            "4/4 [==============================] - 0s 8ms/step - loss: 0.0354\n",
            "Epoch 5/10\n",
            "4/4 [==============================] - 0s 9ms/step - loss: 0.0404\n",
            "Epoch 6/10\n",
            "4/4 [==============================] - 0s 10ms/step - loss: 0.0410\n",
            "Epoch 7/10\n",
            "4/4 [==============================] - 0s 9ms/step - loss: 0.0365\n",
            "Epoch 8/10\n",
            "4/4 [==============================] - 0s 8ms/step - loss: 0.0354\n",
            "Epoch 9/10\n",
            "4/4 [==============================] - 0s 9ms/step - loss: 0.0356\n",
            "Epoch 10/10\n",
            "4/4 [==============================] - 0s 14ms/step - loss: 0.0357\n",
            "1/1 [==============================] - 1s 717ms/step\n",
            "MAE: 0.12592632751047358\n",
            "RMSE: 0.17940663339433358\n"
          ]
        }
      ],
      "source": [
        "import pandas as pd\n",
        "from sklearn.model_selection import train_test_split\n",
        "from sklearn.preprocessing import MinMaxScaler\n",
        "import numpy as np\n",
        "from keras.models import Sequential\n",
        "from keras.layers import LSTM, Dense\n",
        "from sklearn.metrics import mean_absolute_error, mean_squared_error\n",
        "\n",
        "# Load the dataset\n",
        "data = pd.read_csv('data.csv')\n",
        "\n",
        "# Assuming your dataset has a single feature column named 'value'\n",
        "scaler = MinMaxScaler()\n",
        "data['value'] = scaler.fit_transform(data['value'].values.reshape(-1, 1))\n",
        "\n",
        "# Split data into training and testing sets\n",
        "train_data, test_data = train_test_split(data, test_size=0.2, shuffle=False)\n",
        "\n",
        "def create_sequences(data, seq_length):\n",
        "    sequences = []\n",
        "    for i in range(len(data) - seq_length):\n",
        "        sequence = data[i:i + seq_length]\n",
        "        sequences.append(sequence)\n",
        "    return sequences\n",
        "\n",
        "seq_length = 10  # Length of input sequences\n",
        "X_train = create_sequences(train_data[['value']], seq_length)\n",
        "y_train = train_data['value'][seq_length:]\n",
        "\n",
        "X_test = create_sequences(test_data[['value']], seq_length)\n",
        "y_test = test_data['value'][seq_length:]\n",
        "\n",
        "X_train = np.array(X_train)\n",
        "y_train = np.array(y_train)\n",
        "X_test = np.array(X_test)\n",
        "y_test = np.array(y_test)\n",
        "\n",
        "model = Sequential([\n",
        "    LSTM(units=50, input_shape=(X_train.shape[1], 1)),\n",
        "    Dense(units=1)\n",
        "])\n",
        "\n",
        "model.compile(optimizer='adam', loss='mean_squared_error')\n",
        "\n",
        "model.fit(X_train, y_train, epochs=10, batch_size=32)\n",
        "\n",
        "y_pred = model.predict(X_test)\n",
        "mae = mean_absolute_error(y_test, y_pred)\n",
        "rmse = mean_squared_error(y_test, y_pred, squared=False)\n",
        "\n",
        "print('MAE:', mae)\n",
        "print('RMSE:', rmse)\n"
      ]
    },
    {
      "cell_type": "code",
      "execution_count": null,
      "metadata": {
        "colab": {
          "background_save": true
        },
        "id": "jo8X2wq5K7ar",
        "outputId": "5c1be9ba-1229-4ba3-f1f1-0399d22a0ae0"
      },
      "outputs": [
        {
          "name": "stdout",
          "output_type": "stream",
          "text": [
            "Downloading data from https://storage.googleapis.com/tensorflow/tf-keras-datasets/mnist.npz\n",
            "11490434/11490434 [==============================] - 0s 0us/step\n",
            "Epoch 1/20\n",
            "375/375 [==============================] - 42s 104ms/step - loss: 0.2650 - accuracy: 0.9220 - val_loss: 0.0898 - val_accuracy: 0.9733 - lr: 0.0010\n",
            "Epoch 2/20\n",
            "375/375 [==============================] - 40s 107ms/step - loss: 0.0675 - accuracy: 0.9792 - val_loss: 0.0646 - val_accuracy: 0.9803 - lr: 0.0010\n",
            "Epoch 3/20\n",
            "375/375 [==============================] - 40s 107ms/step - loss: 0.0470 - accuracy: 0.9859 - val_loss: 0.0635 - val_accuracy: 0.9823 - lr: 0.0010\n",
            "Epoch 4/20\n",
            "375/375 [==============================] - 35s 93ms/step - loss: 0.0375 - accuracy: 0.9886 - val_loss: 0.0460 - val_accuracy: 0.9872 - lr: 0.0010\n",
            "Epoch 5/20\n",
            "375/375 [==============================] - 35s 93ms/step - loss: 0.0289 - accuracy: 0.9912 - val_loss: 0.0474 - val_accuracy: 0.9865 - lr: 0.0010\n",
            "Epoch 6/20\n",
            "375/375 [==============================] - 36s 96ms/step - loss: 0.0232 - accuracy: 0.9931 - val_loss: 0.0390 - val_accuracy: 0.9886 - lr: 0.0010\n",
            "Epoch 7/20\n",
            "375/375 [==============================] - 35s 94ms/step - loss: 0.0190 - accuracy: 0.9941 - val_loss: 0.0380 - val_accuracy: 0.9888 - lr: 0.0010\n",
            "Epoch 8/20\n",
            "375/375 [==============================] - 36s 95ms/step - loss: 0.0152 - accuracy: 0.9951 - val_loss: 0.0576 - val_accuracy: 0.9852 - lr: 0.0010\n",
            "Epoch 9/20\n",
            "375/375 [==============================] - 35s 94ms/step - loss: 0.0141 - accuracy: 0.9954 - val_loss: 0.0489 - val_accuracy: 0.9883 - lr: 0.0010\n",
            "Epoch 10/20\n",
            "375/375 [==============================] - 37s 99ms/step - loss: 0.0106 - accuracy: 0.9964 - val_loss: 0.0413 - val_accuracy: 0.9898 - lr: 0.0010\n",
            "Epoch 11/20\n",
            "375/375 [==============================] - 37s 99ms/step - loss: 0.0039 - accuracy: 0.9989 - val_loss: 0.0388 - val_accuracy: 0.9912 - lr: 2.0000e-04\n",
            "Epoch 12/20\n",
            "375/375 [==============================] - 35s 94ms/step - loss: 0.0025 - accuracy: 0.9996 - val_loss: 0.0390 - val_accuracy: 0.9908 - lr: 2.0000e-04\n",
            "Epoch 12: early stopping\n",
            "313/313 [==============================] - 3s 8ms/step - loss: 0.0310 - accuracy: 0.9906\n",
            "Test loss: 0.031039588153362274\n",
            "Test accuracy: 0.9905999898910522\n"
          ]
        },
        {
          "data": {
            "image/png": "[encoded data removed]",
            "text/plain": [
              "<Figure size 640x480 with 1 Axes>"
            ]
          },
          "metadata": {},
          "output_type": "display_data"
        }
      ],
      "source": [
        "import numpy as np\n",
        "from keras.datasets import mnist\n",
        "from keras.models import Sequential\n",
        "from keras.layers import Conv2D, MaxPooling2D, Flatten, Dense\n",
        "from keras.optimizers import Adam\n",
        "from keras.callbacks import ReduceLROnPlateau, EarlyStopping\n",
        "import matplotlib.pyplot as plt\n",
        "\n",
        "# Load the MNIST dataset\n",
        "(X_train, y_train), (X_test, y_test) = mnist.load_data()\n",
        "\n",
        "# Normalize the pixel values to the range [0, 1]\n",
        "X_train = X_train.astype('float32') / 255.0\n",
        "X_test = X_test.astype('float32') / 255.0\n",
        "\n",
        "# Reshape the input data to fit the CNN input shape\n",
        "X_train = np.expand_dims(X_train, axis=-1)\n",
        "X_test = np.expand_dims(X_test, axis=-1)\n",
        "\n",
        "# Define the CNN model\n",
        "model = Sequential([\n",
        "    Conv2D(32, (3, 3), activation='relu', input_shape=(28, 28, 1)),\n",
        "    MaxPooling2D((2, 2)),\n",
        "    Conv2D(64, (3, 3), activation='relu'),\n",
        "    MaxPooling2D((2, 2)),\n",
        "    Flatten(),\n",
        "    Dense(64, activation='relu'),\n",
        "    Dense(10, activation='softmax')\n",
        "])\n",
        "\n",
        "# Compile the model\n",
        "model.compile(optimizer='adam', loss='sparse_categorical_crossentropy', metrics=['accuracy'])\n",
        "\n",
        "# Define callback functions\n",
        "reduce_lr = ReduceLROnPlateau(monitor='val_loss', factor=0.2, patience=3, min_lr=0.0001)\n",
        "early_stop = EarlyStopping(monitor='val_loss', patience=5, verbose=1)\n",
        "\n",
        "# Train the model\n",
        "history = model.fit(X_train, y_train, epochs=20, batch_size=128, validation_split=0.2, callbacks=[reduce_lr, early_stop])\n",
        "\n",
        "# Evaluate the model on the test set\n",
        "loss, accuracy = model.evaluate(X_test, y_test)\n",
        "print(f'Test loss: {loss}')\n",
        "print(f'Test accuracy: {accuracy}')\n",
        "\n",
        "# Plot training history\n",
        "plt.plot(history.history['loss'], label='Training Loss')\n",
        "plt.plot(history.history['val_loss'], label='Validation Loss')\n",
        "plt.xlabel('Epoch')\n",
        "plt.ylabel('Loss')\n",
        "plt.legend()\n",
        "plt.show()\n"
      ]
    }
  ],
  "metadata": {
    "colab": {
      "provenance": [],
      "authorship_tag": "ABX9TyN5E0xWMG5Ncf60QJcFEbXz",
      "include_colab_link": true
    },
    "kernelspec": {
      "display_name": "Python 3",
      "name": "python3"
    },
    "language_info": {
      "name": "python"
    }
  },
  "nbformat": 4,
  "nbformat_minor": 0
}